{
 "cells": [
  {
   "cell_type": "code",
   "execution_count": null,
   "metadata": {},
   "outputs": [],
   "source": []
  },
  {
   "cell_type": "code",
   "execution_count": 1,
   "metadata": {},
   "outputs": [
    {
     "name": "stdout",
     "output_type": "stream",
     "text": [
      "2.3.1\n",
      "Python 3.7.6\n"
     ]
    }
   ],
   "source": [
    "import matplotlib.pyplot as plt\n",
    "import numpy as np\n",
    "from nice import *\n",
    "from utils import *\n",
    "import tensorflow as tf\n",
    "import tensorflow_probability as tfp\n",
    "tfk = tf.keras\n",
    "tfkl = tfk.layers\n",
    "tfkc = tfk.callbacks\n",
    "tfd = tfp.distributions\n",
    "tfb = tfp.bijectors\n",
    "K = tfk.backend\n",
    "print(tf.__version__)\n",
    "!python --version"
   ]
  },
  {
   "cell_type": "code",
   "execution_count": 2,
   "metadata": {},
   "outputs": [],
   "source": [
    "inp_dim = 2\n",
    "n_sample = 1000\n",
    "\n",
    "n_layer = 3\n",
    "n_hid = 128\n",
    "n_batch = 128\n",
    "n_epoch = 1000\n",
    "n_display = 100"
   ]
  },
  {
   "cell_type": "code",
   "execution_count": 3,
   "metadata": {},
   "outputs": [
    {
     "data": {
      "image/png": "[encoded data removed]",
      "text/plain": [
       "<Figure size 432x288 with 1 Axes>"
      ]
     },
     "metadata": {
      "needs_background": "light"
     },
     "output_type": "display_data"
    }
   ],
   "source": [
    "x2 = np.random.normal(0, 4, n_sample)\n",
    "x1 = np.random.normal(0.25 * x2**2, [1]*n_sample)\n",
    "X = np.stack([x1, x2], axis=1).astype('float32')\n",
    "plt.scatter(X[:,0], X[:,1]);"
   ]
  },
  {
   "cell_type": "code",
   "execution_count": 4,
   "metadata": {},
   "outputs": [],
   "source": [
    "def gen():\n",
    "    for _ in range(n_sample):\n",
    "        x2 = np.random.normal(0, 4)\n",
    "        x1 = np.random.normal(0.25 * x2**2, 1)\n",
    "        X = np.stack([x1, x2], axis=0).astype('float32')\n",
    "        yield (X,X)\n",
    "        \n",
    "dataset = tf.data.Dataset.from_generator(gen, (tf.float32, tf.float32), output_shapes=(inp_dim, inp_dim))        \n",
    "dataset = dataset.repeat().shuffle(n_sample).batch(n_batch, drop_remainder=True)\n",
    "# it = iter(dataset)\n",
    "# next(it)"
   ]
  },
  {
   "cell_type": "code",
   "execution_count": 5,
   "metadata": {},
   "outputs": [],
   "source": [
    "class NVPCouplingLayer(tfkl.Layer):\n",
    "    def __init__(self, inp_dim, n_layer, n_hid, name):\n",
    "        super(NVPCouplingLayer, self).__init__(name=name)\n",
    "        self.inp_dim = inp_dim\n",
    "        self.n_layer = n_layer\n",
    "        self.n_hid = n_hid\n",
    "        self.s = FCNN(inp_dim)\n",
    "        self.t = FCNN(inp_dim)\n",
    "        self.permute = tfb.Permute(permutation=list(reversed(range(self.inp_dim))), \n",
    "                                   name='Permute') # reversed permute\n",
    "\n",
    "    def call(self, x):\n",
    "        # Forward mapping: from data to latent\n",
    "        # Split\n",
    "        x = tf.reshape(x, [-1, self.inp_dim // 2, 2])\n",
    "        x1, x2 = x[:, :, 0], x[:, :, 1]\n",
    "        y2 = x2 * tf.math.exp(self.s(x1)) + self.t(x1)\n",
    "        y = tf.concat([x1, y2], axis=-1)\n",
    "        y = self.permute(y)\n",
    "        return y\n",
    "\n",
    "    def inverse(self, y):\n",
    "        # Inverse mapping: from latent to data\n",
    "        y = self.permute(y)\n",
    "        y = tf.reshape(y, [-1, self.inp_dim // 2, 2])\n",
    "        y1, y2 = y[:, :, 0], y[:, :, 1]\n",
    "        x2 = (y2 - self.t(y1)) * tf.math.exp(-self.s(y1))\n",
    "        x = tf.concat([y1, x2], axis=-1)\n",
    "        return x\n",
    "\n",
    "    \n",
    "class RealNVP(tfk.Model):\n",
    "    def __init__(self, inp_dim, n_layer, n_hid, **kwargs):\n",
    "        super(RealNVP, self).__init__(**kwargs)\n",
    "        self.inp_dim = inp_dim\n",
    "        self.n_layer = n_layer\n",
    "        self.n_hid = n_hid\n",
    "        self.AffineLayers = []\n",
    "        for i in range(n_layer):\n",
    "            layer = NVPCouplingLayer(inp_dim, n_layer, n_hid, name=f'Layer{i}')\n",
    "            self.AffineLayers.append(layer)\n",
    "#         self.scale = ScalingLayer(inp_dim)\n",
    "#         self.AffineLayers.append(self.scale)\n",
    "        \n",
    "    def call(self, x):\n",
    "        '''Forward mapping: from data to latent'''\n",
    "        for i in range(self.n_layer):\n",
    "            x = self.AffineLayers[i](x)\n",
    "#         x = self.scale(x)\n",
    "        return x\n",
    "    \n",
    "    def inverse(self, x):\n",
    "        '''Inverse mapping: from latent to data'''\n",
    "#         x = self.scale.inverse(x)\n",
    "        for i in reversed(range(self.n_layer)):\n",
    "            x = self.AffineLayers[i].inverse(x)\n",
    "        return x\n",
    "    "
   ]
  },
  {
   "cell_type": "code",
   "execution_count": 6,
   "metadata": {},
   "outputs": [
    {
     "name": "stdout",
     "output_type": "stream",
     "text": [
      "Model: \"RealNVP\"\n",
      "_________________________________________________________________\n",
      "Layer (type)                 Output Shape              Param #   \n",
      "=================================================================\n",
      "Layer0 (NVPCouplingLayer)    multiple                  1053700   \n",
      "_________________________________________________________________\n",
      "Layer1 (NVPCouplingLayer)    multiple                  1053700   \n",
      "_________________________________________________________________\n",
      "Layer2 (NVPCouplingLayer)    multiple                  1053700   \n",
      "=================================================================\n",
      "Total params: 3,161,100\n",
      "Trainable params: 3,161,094\n",
      "Non-trainable params: 6\n",
      "_________________________________________________________________\n"
     ]
    }
   ],
   "source": [
    "model = RealNVP(inp_dim, n_layer, n_hid, name='RealNVP')\n",
    "model.build(input_shape=(inp_dim,))\n",
    "model.summary()"
   ]
  },
  {
   "cell_type": "code",
   "execution_count": 7,
   "metadata": {},
   "outputs": [],
   "source": [
    "def loss_fun(y_true, y_pred):\n",
    "    # negative log likelihood\n",
    "    return tf.math.reduce_sum(0.5 * y_pred **2, axis=1)\n",
    "\n",
    "model.compile(loss=loss_fun, optimizer='adam')"
   ]
  },
  {
   "cell_type": "code",
   "execution_count": 10,
   "metadata": {},
   "outputs": [
    {
     "name": "stdout",
     "output_type": "stream",
     "text": [
      "=== Started at 2020-11-18 20h:42m:43s ===\n",
      " 2020-11-18 20h:42m:44s | Epoch: 1/1000 | loss=1524.359619\n",
      " 2020-11-18 20h:42m:48s | Epoch: 100/1000 | loss=0.000147\n",
      " 2020-11-18 20h:42m:52s | Epoch: 200/1000 | loss=0.000011\n",
      " 2020-11-18 20h:42m:56s | Epoch: 300/1000 | loss=0.000003\n",
      " 2020-11-18 20h:42m:59s | Epoch: 400/1000 | loss=0.000001\n",
      " 2020-11-18 20h:43m:03s | Epoch: 500/1000 | loss=0.000001\n",
      " 2020-11-18 20h:43m:07s | Epoch: 600/1000 | loss=0.000001\n",
      " 2020-11-18 20h:43m:11s | Epoch: 700/1000 | loss=0.000001\n",
      " 2020-11-18 20h:43m:15s | Epoch: 800/1000 | loss=0.000001\n",
      " 2020-11-18 20h:43m:19s | Epoch: 900/1000 | loss=0.000000\n",
      " 2020-11-18 20h:43m:22s | Epoch: 1000/1000 | loss=0.000000\n",
      "=== Time elapsed: 0.6615 min (loss:0.000000) ===\n",
      "CPU times: user 2min 5s, sys: 7.49 s, total: 2min 13s\n",
      "Wall time: 39.7 s\n"
     ]
    }
   ],
   "source": [
    "%%time\n",
    "logger = NBatchLogger(n_display, n_epoch)\n",
    "hist = model.fit(dataset,\n",
    "                 epochs=n_epoch,\n",
    "                 steps_per_epoch=1,\n",
    "                 callbacks=[logger],\n",
    "                 verbose=0)"
   ]
  },
  {
   "cell_type": "code",
   "execution_count": 11,
   "metadata": {},
   "outputs": [
    {
     "data": {
      "text/plain": [
       "[<matplotlib.lines.Line2D at 0x7f8eb80b3b10>]"
      ]
     },
     "execution_count": 11,
     "metadata": {},
     "output_type": "execute_result"
    },
    {
     "data": {
      "image/png": "[encoded data removed]",
      "text/plain": [
       "<Figure size 432x288 with 1 Axes>"
      ]
     },
     "metadata": {
      "needs_background": "light"
     },
     "output_type": "display_data"
    }
   ],
   "source": [
    "plt.plot(hist.history['loss'])"
   ]
  },
  {
   "cell_type": "code",
   "execution_count": 12,
   "metadata": {},
   "outputs": [
    {
     "data": {
      "image/png": "[encoded data removed]",
      "text/plain": [
       "<Figure size 1008x252 with 4 Axes>"
      ]
     },
     "metadata": {},
     "output_type": "display_data"
    }
   ],
   "source": [
    "fig = visualize_from_latent(model, 500, title_txt='Latent --> Data', sharexy=True)"
   ]
  },
  {
   "cell_type": "code",
   "execution_count": 13,
   "metadata": {},
   "outputs": [
    {
     "data": {
      "image/png": "[encoded data removed]",
      "text/plain": [
       "<Figure size 1008x252 with 4 Axes>"
      ]
     },
     "metadata": {},
     "output_type": "display_data"
    }
   ],
   "source": [
    "fig = visualize_from_data(model, 500, title_txt='Data --> Latent', sharexy=True)"
   ]
  },
  {
   "cell_type": "code",
   "execution_count": null,
   "metadata": {},
   "outputs": [],
   "source": []
  },
  {
   "cell_type": "code",
   "execution_count": null,
   "metadata": {},
   "outputs": [],
   "source": []
  },
  {
   "cell_type": "code",
   "execution_count": null,
   "metadata": {},
   "outputs": [],
   "source": []
  },
  {
   "cell_type": "code",
   "execution_count": null,
   "metadata": {},
   "outputs": [],
   "source": []
  },
  {
   "cell_type": "code",
   "execution_count": null,
   "metadata": {},
   "outputs": [],
   "source": []
  },
  {
   "cell_type": "code",
   "execution_count": null,
   "metadata": {},
   "outputs": [],
   "source": []
  },
  {
   "cell_type": "code",
   "execution_count": null,
   "metadata": {},
   "outputs": [],
   "source": []
  },
  {
   "cell_type": "code",
   "execution_count": null,
   "metadata": {},
   "outputs": [],
   "source": []
  }
 ],
 "metadata": {
  "kernelspec": {
   "display_name": "Python 3",
   "language": "python",
   "name": "python3"
  },
  "language_info": {
   "codemirror_mode": {
    "name": "ipython",
    "version": 3
   },
   "file_extension": ".py",
   "mimetype": "text/x-python",
   "name": "python",
   "nbconvert_exporter": "python",
   "pygments_lexer": "ipython3",
   "version": "3.7.6"
  }
 },
 "nbformat": 4,
 "nbformat_minor": 4
}
